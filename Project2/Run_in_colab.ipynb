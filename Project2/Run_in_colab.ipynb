{
  "nbformat": 4,
  "nbformat_minor": 0,
  "metadata": {
    "colab": {
      "provenance": [],
      "gpuType": "T4"
    },
    "kernelspec": {
      "name": "python3",
      "display_name": "Python 3"
    },
    "language_info": {
      "name": "python"
    },
    "accelerator": "GPU"
  },
  "cells": [
    {
      "cell_type": "code",
      "execution_count": null,
      "metadata": {
        "id": "qmGVBuJ1OL9T"
      },
      "outputs": [],
      "source": [
        "from google.colab import drive\n",
        "drive.mount(\"/content/drive/\")\n"
      ]
    },
    {
      "cell_type": "code",
      "source": [
        "import os\n",
        "print(os.path.isfile(\"/content/drive/MyDrive/AI504/20218179.py\"))"
      ],
      "metadata": {
        "id": "L5CjQ-tEOOeB"
      },
      "execution_count": null,
      "outputs": []
    },
    {
      "cell_type": "code",
      "source": [
        "!pip install transformers\n",
        "!pip install datasets"
      ],
      "metadata": {
        "id": "qEpFgmGS8Uk9"
      },
      "execution_count": null,
      "outputs": []
    },
    {
      "cell_type": "code",
      "source": [
        "!python /content/drive/MyDrive/AI504/20218179.py  \\\n",
        "  --output_path \"/content/drive/MyDrive/AI504/\" \\\n",
        "  --seed 0 \\\n",
        "  --stop_epoch 3"
      ],
      "metadata": {
        "id": "GyFNXVIVE7W6"
      },
      "execution_count": null,
      "outputs": []
    }
  ]
}