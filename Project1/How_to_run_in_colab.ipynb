{
  "cells": [
    {
      "cell_type": "code",
      "execution_count": null,
      "metadata": {
        "id": "3Jnj3vbpX77G"
      },
      "outputs": [],
      "source": [
        "from google.colab import drive\n",
        "drive.mount(\"/content/drive/\")"
      ]
    },
    {
      "cell_type": "code",
      "execution_count": null,
      "metadata": {
        "id": "sRFIXk65FYW_"
      },
      "outputs": [],
      "source": [
        "import os\n",
        "print(os.path.isdir(\"/content/drive/MyDrive/AI504\"))\n",
        "print(os.path.isfile(\"/content/drive/MyDrive/AI504/celeba.zip\"))\n",
        "# Change to your student ID\n",
        "print(os.path.isfile(\"/content/drive/MyDrive/AI504/20218179.py\"))"
      ]
    },
    {
      "cell_type": "code",
      "execution_count": null,
      "metadata": {
        "id": "nEFNdDklvr0m"
      },
      "outputs": [],
      "source": [
        "import os\n",
        "import shutil\n",
        "\n",
        "# When re-running the code, this code deletes \"celeba\" folder and then unzip again\n",
        "folder_path = '/content/drive/MyDrive/AI504/celeba'\n",
        "\n",
        "if os.path.exists(folder_path) and os.path.isdir(folder_path):\n",
        "    shutil.rmtree(folder_path)\n",
        "\n",
        "\n",
        "!mkdir /content/drive/MyDrive/AI504/celeba\n",
        "!unzip /content/drive/MyDrive/AI504/celeba.zip -d /content/drive/MyDrive/AI504/celeba"
      ]
    },
    {
      "cell_type": "code",
      "execution_count": null,
      "metadata": {
        "id": "pSOJxKiAX0pZ"
      },
      "outputs": [],
      "source": [
        "import os\n",
        "import shutil\n",
        "\n",
        "def count_files_in_directory(directory_path):\n",
        "    with os.scandir(directory_path) as entries:\n",
        "        return sum(1 for entry in entries if entry.is_file())\n",
        "\n",
        "directory_path = '/content/drive/MyDrive/AI504/celeba/'\n",
        "file_count = count_files_in_directory(directory_path)\n",
        "print(f\"There are {file_count} files in {directory_path}\")"
      ]
    },
    {
      "cell_type": "code",
      "execution_count": null,
      "metadata": {
        "id": "xJENqytEJDX4"
      },
      "outputs": [],
      "source": [
        "# change student_id to your student ID\n",
        "\n",
        "!python /content/drive/MyDrive/AI504/20218179.py  \\\n",
        "  --img_path \"/content/drive/MyDrive/AI504/celeba/\" \\\n",
        "  --output_path \"/content/drive/MyDrive/AI504/\" \\\n",
        "  --seed 100 \\\n",
        "  --stop_epoch 3"
      ]
    },
    {
      "cell_type": "code",
      "execution_count": null,
      "metadata": {
        "id": "oDy-AqHk4zWA"
      },
      "outputs": [],
      "source": []
    }
  ],
  "metadata": {
    "accelerator": "GPU",
    "colab": {
      "gpuType": "T4",
      "provenance": []
    },
    "kernelspec": {
      "display_name": "Python 3",
      "name": "python3"
    },
    "language_info": {
      "name": "python"
    }
  },
  "nbformat": 4,
  "nbformat_minor": 0
}
